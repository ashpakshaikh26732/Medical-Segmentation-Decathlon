{
 "cells": [
  {
   "cell_type": "code",
   "execution_count": 5,
   "id": "0e622512",
   "metadata": {},
   "outputs": [],
   "source": [
    "from train_SwimUnet import print_hello"
   ]
  },
  {
   "cell_type": "code",
   "execution_count": 6,
   "id": "d87591cd",
   "metadata": {},
   "outputs": [
    {
     "name": "stdout",
     "output_type": "stream",
     "text": [
      "this is the train_swimUnet_file\n"
     ]
    }
   ],
   "source": [
    "print_hello()\n"
   ]
  },
  {
   "cell_type": "code",
   "execution_count": null,
   "id": "4f1b6b68",
   "metadata": {},
   "outputs": [],
   "source": []
  }
 ],
 "metadata": {
  "kernelspec": {
   "display_name": "Python 3",
   "language": "python",
   "name": "python3"
  },
  "language_info": {
   "codemirror_mode": {
    "name": "ipython",
    "version": 3
   },
   "file_extension": ".py",
   "mimetype": "text/x-python",
   "name": "python",
   "nbconvert_exporter": "python",
   "pygments_lexer": "ipython3",
   "version": "3.10.12"
  }
 },
 "nbformat": 4,
 "nbformat_minor": 5
}
