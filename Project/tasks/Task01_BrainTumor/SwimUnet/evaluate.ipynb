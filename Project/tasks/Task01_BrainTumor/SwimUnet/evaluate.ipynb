{
 "cells": [
  {
   "cell_type": "code",
   "execution_count": null,
   "id": "0e622512",
   "metadata": {},
   "outputs": [],
   "source": [
    "import sys\n",
    "import os\n",
    "\n",
    "\n",
    "# For Colab:\n",
    "# repo_root = \"/content/medical-segmentation-decathlon\"\n",
    "\n",
    "# For VS Code :\n",
    "repo_root = \"/home/levi/medical-segmentation-decathlon\"  \n",
    "\n",
    "# Add to sys.path\n",
    "if repo_root not in sys.path:\n",
    "    sys.path.insert(0, repo_root)\n",
    "\n",
    "# Now import and run\n",
    "from setup_path import add_project_root\n",
    "add_project_root()\n"
   ]
  },
  {
   "cell_type": "code",
   "execution_count": 23,
   "id": "d87591cd",
   "metadata": {},
   "outputs": [
    {
     "name": "stdout",
     "output_type": "stream",
     "text": [
      "this is the train_swimUnet_file\n"
     ]
    }
   ],
   "source": [
    "from train_SwimUnet import print_hello\n",
    "print_hello()\n"
   ]
  },
  {
   "cell_type": "code",
   "execution_count": null,
   "id": "4f1b6b68",
   "metadata": {},
   "outputs": [],
   "source": []
  }
 ],
 "metadata": {
  "kernelspec": {
   "display_name": "Python 3",
   "language": "python",
   "name": "python3"
  },
  "language_info": {
   "codemirror_mode": {
    "name": "ipython",
    "version": 3
   },
   "file_extension": ".py",
   "mimetype": "text/x-python",
   "name": "python",
   "nbconvert_exporter": "python",
   "pygments_lexer": "ipython3",
   "version": "3.10.12"
  }
 },
 "nbformat": 4,
 "nbformat_minor": 5
}
