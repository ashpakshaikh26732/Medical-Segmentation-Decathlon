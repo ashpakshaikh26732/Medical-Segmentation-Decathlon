{
 "cells": [
  {
   "cell_type": "code",
   "execution_count": null,
   "id": "b07434ec",
   "metadata": {},
   "outputs": [],
   "source": []
  },
  {
   "cell_type": "code",
   "execution_count": null,
   "id": "91eb5317",
   "metadata": {},
   "outputs": [],
   "source": []
  }
 ],
 "metadata": {
  "language_info": {
   "name": "python"
  }
 },
 "nbformat": 4,
 "nbformat_minor": 5
}
